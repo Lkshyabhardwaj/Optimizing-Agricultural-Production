{
 "cells": [
  {
   "cell_type": "code",
   "execution_count": 1,
   "id": "6b9fcca5",
   "metadata": {},
   "outputs": [],
   "source": [
    "#for manipulations\n",
    "import numpy as np\n",
    "import pandas as pd\n",
    "\n",
    "#for data visualizatios\n",
    "import matplotlib.pyplot as plt\n",
    "import seaborn as sns\n",
    " \n",
    "#for interactivity\n",
    "from ipywidgets import interact"
   ]
  },
  {
   "cell_type": "code",
   "execution_count": 2,
   "id": "ca6760ba",
   "metadata": {},
   "outputs": [],
   "source": [
    "#lets read the dataset\n",
    "data= pd.read_csv('C:\\\\Users\\\\Vinayak\\\\Downloads\\\\data.csv')"
   ]
  },
  {
   "cell_type": "code",
   "execution_count": 3,
   "id": "426c9dea",
   "metadata": {},
   "outputs": [
    {
     "name": "stdout",
     "output_type": "stream",
     "text": [
      "shape of the dataset: (2200, 8)\n"
     ]
    }
   ],
   "source": [
    "#lets check to shape of the dataset\n",
    "print(\"shape of the dataset:\",data.shape)"
   ]
  },
  {
   "cell_type": "code",
   "execution_count": 4,
   "id": "d6b9152e",
   "metadata": {},
   "outputs": [
    {
     "data": {
      "text/html": [
       "<div>\n",
       "<style scoped>\n",
       "    .dataframe tbody tr th:only-of-type {\n",
       "        vertical-align: middle;\n",
       "    }\n",
       "\n",
       "    .dataframe tbody tr th {\n",
       "        vertical-align: top;\n",
       "    }\n",
       "\n",
       "    .dataframe thead th {\n",
       "        text-align: right;\n",
       "    }\n",
       "</style>\n",
       "<table border=\"1\" class=\"dataframe\">\n",
       "  <thead>\n",
       "    <tr style=\"text-align: right;\">\n",
       "      <th></th>\n",
       "      <th>N</th>\n",
       "      <th>P</th>\n",
       "      <th>K</th>\n",
       "      <th>temperature</th>\n",
       "      <th>humidity</th>\n",
       "      <th>ph</th>\n",
       "      <th>rainfall</th>\n",
       "      <th>label</th>\n",
       "    </tr>\n",
       "  </thead>\n",
       "  <tbody>\n",
       "    <tr>\n",
       "      <th>0</th>\n",
       "      <td>90</td>\n",
       "      <td>42</td>\n",
       "      <td>43</td>\n",
       "      <td>20.879744</td>\n",
       "      <td>82.002744</td>\n",
       "      <td>6.502985</td>\n",
       "      <td>202.935536</td>\n",
       "      <td>rice</td>\n",
       "    </tr>\n",
       "    <tr>\n",
       "      <th>1</th>\n",
       "      <td>85</td>\n",
       "      <td>58</td>\n",
       "      <td>41</td>\n",
       "      <td>21.770462</td>\n",
       "      <td>80.319644</td>\n",
       "      <td>7.038096</td>\n",
       "      <td>226.655537</td>\n",
       "      <td>rice</td>\n",
       "    </tr>\n",
       "    <tr>\n",
       "      <th>2</th>\n",
       "      <td>60</td>\n",
       "      <td>55</td>\n",
       "      <td>44</td>\n",
       "      <td>23.004459</td>\n",
       "      <td>82.320763</td>\n",
       "      <td>7.840207</td>\n",
       "      <td>263.964248</td>\n",
       "      <td>rice</td>\n",
       "    </tr>\n",
       "    <tr>\n",
       "      <th>3</th>\n",
       "      <td>74</td>\n",
       "      <td>35</td>\n",
       "      <td>40</td>\n",
       "      <td>26.491096</td>\n",
       "      <td>80.158363</td>\n",
       "      <td>6.980401</td>\n",
       "      <td>242.864034</td>\n",
       "      <td>rice</td>\n",
       "    </tr>\n",
       "    <tr>\n",
       "      <th>4</th>\n",
       "      <td>78</td>\n",
       "      <td>42</td>\n",
       "      <td>42</td>\n",
       "      <td>20.130175</td>\n",
       "      <td>81.604873</td>\n",
       "      <td>7.628473</td>\n",
       "      <td>262.717340</td>\n",
       "      <td>rice</td>\n",
       "    </tr>\n",
       "  </tbody>\n",
       "</table>\n",
       "</div>"
      ],
      "text/plain": [
       "    N   P   K  temperature   humidity        ph    rainfall label\n",
       "0  90  42  43    20.879744  82.002744  6.502985  202.935536  rice\n",
       "1  85  58  41    21.770462  80.319644  7.038096  226.655537  rice\n",
       "2  60  55  44    23.004459  82.320763  7.840207  263.964248  rice\n",
       "3  74  35  40    26.491096  80.158363  6.980401  242.864034  rice\n",
       "4  78  42  42    20.130175  81.604873  7.628473  262.717340  rice"
      ]
     },
     "execution_count": 4,
     "metadata": {},
     "output_type": "execute_result"
    }
   ],
   "source": [
    "#lets check the head of the dataset\n",
    "data.head()"
   ]
  },
  {
   "cell_type": "code",
   "execution_count": 5,
   "id": "de7caa71",
   "metadata": {},
   "outputs": [
    {
     "data": {
      "text/plain": [
       "N              0\n",
       "P              0\n",
       "K              0\n",
       "temperature    0\n",
       "humidity       0\n",
       "ph             0\n",
       "rainfall       0\n",
       "label          0\n",
       "dtype: int64"
      ]
     },
     "execution_count": 5,
     "metadata": {},
     "output_type": "execute_result"
    }
   ],
   "source": [
    "#lets check if there is any missing value present in the dataset\n",
    "data.isnull().sum()"
   ]
  },
  {
   "cell_type": "code",
   "execution_count": 6,
   "id": "63efd2ee",
   "metadata": {},
   "outputs": [
    {
     "data": {
      "text/plain": [
       "rice           100\n",
       "maize          100\n",
       "jute           100\n",
       "cotton         100\n",
       "coconut        100\n",
       "papaya         100\n",
       "orange         100\n",
       "apple          100\n",
       "muskmelon      100\n",
       "watermelon     100\n",
       "grapes         100\n",
       "mango          100\n",
       "banana         100\n",
       "pomegranate    100\n",
       "lentil         100\n",
       "blackgram      100\n",
       "mungbean       100\n",
       "mothbeans      100\n",
       "pigeonpeas     100\n",
       "kidneybeans    100\n",
       "chickpea       100\n",
       "coffee         100\n",
       "Name: label, dtype: int64"
      ]
     },
     "execution_count": 6,
     "metadata": {},
     "output_type": "execute_result"
    }
   ],
   "source": [
    "#lets check the crops present in this dataset\n",
    "data['label'].value_counts()"
   ]
  },
  {
   "cell_type": "code",
   "execution_count": 7,
   "id": "b678138c",
   "metadata": {},
   "outputs": [
    {
     "name": "stdout",
     "output_type": "stream",
     "text": [
      "average ratio of Nitrogen in the soil:50.55\n",
      "average ratio of Phosphorous in the soil :53.36\n",
      "average ratio of Potassium in the soil :48.15\n",
      "average temperature in celsius :25.62\n",
      "average Relative Humidity in % :71.48\n",
      "average PH Value of the soil :6.47\n",
      "average Rainfall in mm :103.46\n"
     ]
    }
   ],
   "source": [
    "#lets check the summary for all the crops\n",
    "print(\"average ratio of Nitrogen in the soil:{0:.2f}\".format(data['N'].mean()))\n",
    "print(\"average ratio of Phosphorous in the soil :{0:.2f}\".format(data['P'].mean()))\n",
    "print(\"average ratio of Potassium in the soil :{0:.2f}\".format(data['K'].mean()))\n",
    "print(\"average temperature in celsius :{0:.2f}\".format(data['temperature'].mean()))\n",
    "print(\"average Relative Humidity in % :{0:.2f}\".format(data['humidity'].mean()))\n",
    "print(\"average PH Value of the soil :{0:.2f}\".format(data['ph'].mean()))\n",
    "print(\"average Rainfall in mm :{0:.2f}\".format(data['rainfall'].mean()))"
   ]
  },
  {
   "cell_type": "code",
   "execution_count": 8,
   "id": "ac0309ae",
   "metadata": {},
   "outputs": [
    {
     "data": {
      "application/vnd.jupyter.widget-view+json": {
       "model_id": "51b8d11dc2214076b2cd11c373307450",
       "version_major": 2,
       "version_minor": 0
      },
      "text/plain": [
       "interactive(children=(Dropdown(description='crops', options=('rice', 'maize', 'jute', 'cotton', 'coconut', 'pa…"
      ]
     },
     "metadata": {},
     "output_type": "display_data"
    }
   ],
   "source": [
    "#lets check the summary statistics for each of the crop\n",
    "@interact\n",
    "def summary(crops=list(data['label'].value_counts().index)):\n",
    "    x=data[data['label']==crops]\n",
    "    print(\"---------------------------------------------\")\n",
    "    print(\"***Statistics for Nitrogen***\")\n",
    "    print(\"Minimum Nitrogen Rquired:\",x['N'].min())\n",
    "    print(\"Average Nitrogen Rquired:\",x['N'].mean())\n",
    "    print(\"Maximum Nitrogen Required:\",x['N'].max())\n",
    "    print(\"---------------------------------------------\")\n",
    "    print(\"***Statistics for Phosphorous***\")\n",
    "    print(\"Minimum Phoshorous Required:\",x['P'].min())\n",
    "    print(\"Average Phosphorous Required:\",x['P'].mean())\n",
    "    print(\"Maximun Phosphorous Required:\",x['P'].max())\n",
    "    print(\"---------------------------------------------\")\n",
    "    print(\"***Statistics for Potassium***\")\n",
    "    print(\"Minmum Potassium Required:\",x['K'].min())\n",
    "    print(\"Average Potassium Required:\",x['K'].mean())\n",
    "    print(\"Maxmium Potassium Required:\",x['K'].max())\n",
    "    print(\"---------------------------------------------\")\n",
    "    print(\"***Satistics for Temperature***\")\n",
    "    print(\"Minmum temperature Required:{0:.2f}\".format(x['temperature'].min()))\n",
    "    print(\"Average temperature Required:{0:.2f}\".format(x['temperature'].mean()))\n",
    "    print(\"Maxmium temprature Required:{0:.2f}\".format(x['temperature'].max()))\n",
    "    print(\"---------------------------------------------\")\n",
    "    print(\"***Statistics for Humidity***\")\n",
    "    print(\"Minimum humidity Required:{0:.2f}\".format(x['humidity'].min()))\n",
    "    print(\"Average humidity Required:{0:.2f}\".format(x['humidity'].mean()))\n",
    "    print(\"Maximum humidity Required:{0:.2f}\".format(x['humidity'].max()))\n",
    "    print(\"---------------------------------------------\")\n",
    "    print(\"***Statistics for PH***\")\n",
    "    print(\"Minmum PH Required:{0:.2f}\".format(x['ph'].min()))\n",
    "    print(\"Average PH Required:{0:.2f}\".format(x['ph'].mean()))\n",
    "    print(\"Maximum PH Required:{0:.2f}\".format(x['ph'].max()))\n",
    "    print(\"---------------------------------------------\")\n",
    "    print(\"***Statistics for Rainfall***\")\n",
    "    print(\"Minmum Rainfall Required:{0:.2f}\".format(x['rainfall'].min()))\n",
    "    print(\"Average Rainfall Required:{0:.2f}\".format(x['rainfall'].mean()))\n",
    "    print(\"Minmum Rainfall Required:{0:.2f}\".format(x['rainfall'].max()))\n",
    "    "
   ]
  },
  {
   "cell_type": "code",
   "execution_count": 9,
   "id": "aeae1036",
   "metadata": {},
   "outputs": [
    {
     "data": {
      "application/vnd.jupyter.widget-view+json": {
       "model_id": "cab7a517e7d54cd68ca3587dc350e037",
       "version_major": 2,
       "version_minor": 0
      },
      "text/plain": [
       "interactive(children=(Dropdown(description='conditions', options=('N', 'P', 'K', 'temperature', 'ph', 'humidit…"
      ]
     },
     "metadata": {},
     "output_type": "display_data"
    }
   ],
   "source": [
    "#lets compare the average requirement for each cropse with average conditions\n",
    "@interact\n",
    "def compare(conditions=['N','P','K','temperature','ph','humidity','rainfall']):\n",
    "    print(\"Average value for\",conditions,\"is {0:.2f}\".format(data[conditions].mean()))\n",
    "    print(\"-----------------------------------\")\n",
    "    print(\"Rice :{0:.2f}\".format(data[(data['label']=='rice')][conditions].mean()))\n",
    "    print(\"Black grams :{0:.2f}\".format(data[data['label']=='blackgram'][conditions].mean()))\n",
    "    print(\"Banana :{0:.2f}\".format(data[data['label']=='banana'][conditions].mean()))\n",
    "    print(\"Jute :{0:.2f}\".format(data[data['label']=='jute'][conditions].mean()))\n",
    "    print(\"Coconut :{0:.2f}\".format(data[data['label']=='coconut'][conditions].mean()))\n",
    "    print(\"Apple :{0:.2f}\".format(data[data['label']=='apple'][conditions].mean()))\n",
    "    print(\"Papaya :{0:.2f}\".format(data[data['label']=='papaya'][conditions].mean()))\n",
    "    print(\"Muskmelon :{0:.2f}\".format(data[data['label']=='muskmelon'][conditions].mean()))\n",
    "    print(\"Grapes :{0:.2f}\".format(data[data['label']=='grapes'][conditions].mean()))\n",
    "    print(\"Watermelon :{0:.2f}\".format(data[data['label']=='watermelon'][conditions].mean()))\n",
    "    print(\"Kidney beans :{0:.2f}\".format(data[(data['label']=='kidneybeans')][conditions].mean()))\n",
    "    print(\"Mung beans :{0:.2f}\".format(data[(data['label']=='mungbean')][conditions].mean()))\n",
    "    print(\"Oranges :{0:.2f}\".format(data[data['label']=='orange'][conditions].mean()))\n",
    "    print(\"Chick Peas :{0:.2f}\".format(data[(data['label']=='chickpea')][conditions].mean()))\n",
    "    print(\"Lentils :{0:.2f}\".format(data[data['label']=='lentil'][conditions].mean()))\n",
    "    print(\"Cotton :{0:.2f}\".format(data[data['label']=='cotton'][conditions].mean()))\n",
    "    print(\"Maize :{0:.2f}\".format(data[data['label']=='maize'][conditions].mean()))\n",
    "    print(\"Moth Beans :{0:.2f}\".format(data[data['label']=='mothbeans'][conditions].mean()))\n",
    "    print(\"Pigeon Peas :{0:.2f}\".format(data[(data['label']=='pigeonpeas')][conditions].mean()))\n",
    "    print(\"Mango :{0:.2f}\".format(data[data['label']=='mango'][conditions].mean()))\n",
    "    print(\"Pomegranate :{0:.2f}\".format(data[data['label']=='pomegranate'][conditions].mean()))\n",
    "    print(\"Coffee :{0:.2f}\".format(data[data['label']=='coffee'][conditions].mean()))"
   ]
  },
  {
   "cell_type": "code",
   "execution_count": 10,
   "id": "303901a0",
   "metadata": {},
   "outputs": [
    {
     "data": {
      "application/vnd.jupyter.widget-view+json": {
       "model_id": "576184ea4f22453892208d9a160afc5c",
       "version_major": 2,
       "version_minor": 0
      },
      "text/plain": [
       "interactive(children=(Dropdown(description='conditions', options=('N', 'P', 'K', 'temperature', 'ph', 'humidit…"
      ]
     },
     "metadata": {},
     "output_type": "display_data"
    }
   ],
   "source": [
    "#lets make this function more intuitive\n",
    "@interact\n",
    "def compare(conditions=['N','P','K','temperature','ph','humidity','rainfall']):\n",
    "    print(\"Crops which required greater than average\",conditions,'\\n')\n",
    "    print(data[data[conditions] > data[conditions].mean()]['label'].unique())\n",
    "    print(\"-----------------------------------------------------------------\")\n",
    "    print(\"Crops which required less than average\",conditions,'\\n')\n",
    "    print(data[data[conditions] <= data[conditions].mean()]['label'].unique())              "
   ]
  },
  {
   "cell_type": "code",
   "execution_count": 11,
   "id": "df43554c",
   "metadata": {},
   "outputs": [
    {
     "name": "stderr",
     "output_type": "stream",
     "text": [
      "c:\\python38\\lib\\site-packages\\seaborn\\distributions.py:2557: FutureWarning: `distplot` is a deprecated function and will be removed in a future version. Please adapt your code to use either `displot` (a figure-level function with similar flexibility) or `histplot` (an axes-level function for histograms).\n",
      "  warnings.warn(msg, FutureWarning)\n",
      "c:\\python38\\lib\\site-packages\\seaborn\\distributions.py:2557: FutureWarning: `distplot` is a deprecated function and will be removed in a future version. Please adapt your code to use either `displot` (a figure-level function with similar flexibility) or `histplot` (an axes-level function for histograms).\n",
      "  warnings.warn(msg, FutureWarning)\n",
      "c:\\python38\\lib\\site-packages\\seaborn\\distributions.py:2557: FutureWarning: `distplot` is a deprecated function and will be removed in a future version. Please adapt your code to use either `displot` (a figure-level function with similar flexibility) or `histplot` (an axes-level function for histograms).\n",
      "  warnings.warn(msg, FutureWarning)\n",
      "c:\\python38\\lib\\site-packages\\seaborn\\distributions.py:2557: FutureWarning: `distplot` is a deprecated function and will be removed in a future version. Please adapt your code to use either `displot` (a figure-level function with similar flexibility) or `histplot` (an axes-level function for histograms).\n",
      "  warnings.warn(msg, FutureWarning)\n",
      "c:\\python38\\lib\\site-packages\\seaborn\\distributions.py:2557: FutureWarning: `distplot` is a deprecated function and will be removed in a future version. Please adapt your code to use either `displot` (a figure-level function with similar flexibility) or `histplot` (an axes-level function for histograms).\n",
      "  warnings.warn(msg, FutureWarning)\n",
      "c:\\python38\\lib\\site-packages\\seaborn\\distributions.py:2557: FutureWarning: `distplot` is a deprecated function and will be removed in a future version. Please adapt your code to use either `displot` (a figure-level function with similar flexibility) or `histplot` (an axes-level function for histograms).\n",
      "  warnings.warn(msg, FutureWarning)\n",
      "c:\\python38\\lib\\site-packages\\seaborn\\distributions.py:2557: FutureWarning: `distplot` is a deprecated function and will be removed in a future version. Please adapt your code to use either `displot` (a figure-level function with similar flexibility) or `histplot` (an axes-level function for histograms).\n",
      "  warnings.warn(msg, FutureWarning)\n"
     ]
    },
    {
     "data": {
      "image/png": "[encoded data removed]",
      "text/plain": [
       "<Figure size 432x288 with 7 Axes>"
      ]
     },
     "metadata": {
      "needs_background": "light"
     },
     "output_type": "display_data"
    }
   ],
   "source": [
    "#distributios of agricultural conditions\n",
    "plt.subplot(2,4,1)\n",
    "sns.distplot(data['N'],color='red')\n",
    "plt.xlabel(\"ratio of Nitrogen\",fontsize=12)\n",
    "plt.grid()\n",
    "\n",
    "plt.subplot(2,4,2)\n",
    "sns.distplot(data['P'],color='orange')\n",
    "plt.xlabel(\"ratio of phousphorous\",fontsize=12)\n",
    "plt.grid()\n",
    "\n",
    "plt.subplot(2,4,3)\n",
    "sns.distplot(data['K'],color='black')\n",
    "plt.xlabel(\"ratio of Potassium\",fontsize=12)\n",
    "plt.grid()\n",
    "             \n",
    "plt.subplot(2,4,4)\n",
    "sns.distplot(data['temperature'],color='grey')\n",
    "plt.xlabel(\"Tempertaure\",fontsize=12)\n",
    "plt.grid()             \n",
    "\n",
    "plt.subplot(2,4,5)\n",
    "sns.distplot(data['rainfall'],color='lightgreen')\n",
    "plt.xlabel(\"Rainfall\",fontsize=12)\n",
    "plt.grid()  \n",
    "             \n",
    "plt.subplot(2,4,6)\n",
    "sns.distplot(data['humidity'],color='yellow')\n",
    "plt.xlabel(\"Humidity\",fontsize=12)\n",
    "plt.grid()\n",
    "\n",
    "plt.subplot(2,4,7)\n",
    "sns.distplot(data['ph'],color='darkgreen')\n",
    "plt.xlabel(\"ph level\",fontsize=12)\n",
    "plt.grid()\n",
    "\n",
    "plt.suptitle(\"Distribution for Agricultural Conditions\",fontsize=20)\n",
    "plt.show()"
   ]
  },
  {
   "cell_type": "code",
   "execution_count": 12,
   "id": "6cb5f081",
   "metadata": {},
   "outputs": [
    {
     "name": "stdout",
     "output_type": "stream",
     "text": [
      "Some interesting Patterns\n",
      "Crops which required very high ratio of nitrogen content in soil: ['cotton']\n",
      "Crops which required very high ratio of Phosphorous content in soil: ['grapes' 'apple']\n",
      "Crops which required very high ratio of Potassium content in soil: ['grapes' 'apple']\n",
      "Crops which required very high Rainfall: ['rice' 'papaya' 'coconut']\n",
      "Crops which required very low temperature: ['grapes']\n",
      "Crops which required very high temperature: ['grapes' 'papaya']\n",
      "Crops which required very low humidity: ['chickpea' 'kidneybeans']\n",
      "Crops which required very low PH: ['mothbeans']\n",
      "Crops which required very high PH: ['mothbeans']\n"
     ]
    }
   ],
   "source": [
    "#lets find out the intersting facts\n",
    "print(\"Some interesting Patterns\")\n",
    "print(\"Crops which required very high ratio of nitrogen content in soil:\",data[data['N']>120]['label'].unique())\n",
    "print(\"Crops which required very high ratio of Phosphorous content in soil:\",data[data['P']>100]['label'].unique())\n",
    "print(\"Crops which required very high ratio of Potassium content in soil:\",data[data['K']>200]['label'].unique())\n",
    "print(\"Crops which required very high Rainfall:\",data[data['rainfall']>200]['label'].unique())\n",
    "print(\"Crops which required very low temperature:\",data[data['temperature']<10]['label'].unique())\n",
    "print(\"Crops which required very high temperature:\",data[data['temperature']>40]['label'].unique())\n",
    "print(\"Crops which required very low humidity:\",data[data['humidity']<20]['label'].unique())\n",
    "print(\"Crops which required very low PH:\",data[data['ph']<4]['label'].unique())\n",
    "print(\"Crops which required very high PH:\",data[data['ph']>9]['label'].unique())"
   ]
  },
  {
   "cell_type": "code",
   "execution_count": 13,
   "id": "9af6d663",
   "metadata": {},
   "outputs": [
    {
     "name": "stdout",
     "output_type": "stream",
     "text": [
      "Summer Crops\n",
      "['pigeonpeas' 'mothbeans' 'blackgram' 'mango' 'grapes' 'orange' 'papaya']\n",
      "---------------------------------------------------------------\n",
      "Winter Crops\n",
      "['maize' 'pigeonpeas' 'lentil' 'pomegranate' 'grapes' 'orange']\n",
      "---------------------------------------------------------------\n",
      "Rainy Crops\n",
      "['rice' 'papaya' 'coconut']\n"
     ]
    }
   ],
   "source": [
    "#lets understand which crops can only be grown in summer season,winter season and rainy seaso\n",
    "print(\"Summer Crops\")\n",
    "print(data[(data['temperature'] > 30) & (data['humidity'] >50)] [\"label\"].unique()) \n",
    "print(\"---------------------------------------------------------------\")      \n",
    "print(\"Winter Crops\")\n",
    "print(data[(data['temperature'] < 20) & (data['humidity'] >30)] [\"label\"].unique())\n",
    "print(\"---------------------------------------------------------------\")      \n",
    "print(\"Rainy Crops\")\n",
    "print(data[(data['rainfall'] > 200) & (data['humidity'] >30)] [\"label\"].unique())"
   ]
  },
  {
   "cell_type": "code",
   "execution_count": 14,
   "id": "299b0dc6",
   "metadata": {},
   "outputs": [
    {
     "name": "stdout",
     "output_type": "stream",
     "text": [
      "(2200, 7)\n"
     ]
    }
   ],
   "source": [
    "from sklearn.cluster import KMeans\n",
    "#removing the Labels column \n",
    "x=data.drop(['label'],axis=1)\n",
    "\n",
    "#selecting all the values of the data\n",
    "x=x.values\n",
    "\n",
    "#checking the shape\n",
    "print(x.shape)"
   ]
  },
  {
   "cell_type": "code",
   "execution_count": 15,
   "id": "83bf3263",
   "metadata": {},
   "outputs": [
    {
     "data": {
      "image/png": "[encoded data removed]",
      "text/plain": [
       "<Figure size 720x288 with 1 Axes>"
      ]
     },
     "metadata": {
      "needs_background": "light"
     },
     "output_type": "display_data"
    }
   ],
   "source": [
    "#lets determine the optimum number of clusters with in the dataset\n",
    "\n",
    "plt.rcParams['figure.figsize'] =(10,4)\n",
    "\n",
    "wcss =[]\n",
    "for i in range(1,11):\n",
    "    km=KMeans(n_clusters =i,init=\"k-means++\",max_iter=300,n_init=10,random_state=0)\n",
    "    km.fit(x)\n",
    "    wcss.append(km.inertia_)\n",
    "\n",
    "#lets plot the results\n",
    "plt.plot (range(1,11),wcss)\n",
    "plt.title(\"The Elbow Methord\",fontsize =20)\n",
    "plt.xlabel(\"No. of Clusters\",fontsize=12)\n",
    "plt.ylabel(\"wcss\",fontsize=12)\n",
    "plt.show()   "
   ]
  },
  {
   "cell_type": "code",
   "execution_count": 16,
   "id": "28a02476",
   "metadata": {},
   "outputs": [
    {
     "name": "stdout",
     "output_type": "stream",
     "text": [
      "LETS CHECK THE RESULT AFTER APPLYING THER K MEANS CLUSTRING ANALYSIS \n",
      "\n",
      "Crops in Frist Cluster: ['maize' 'chickpea' 'kidneybeans' 'pigeonpeas' 'mothbeans' 'mungbean'\n",
      " 'blackgram' 'lentil' 'pomegranate' 'mango' 'orange' 'papaya' 'coconut']\n",
      "------------------------------------------------------\n",
      "Crops in Second Cluster: ['maize' 'banana' 'watermelon' 'muskmelon' 'papaya' 'cotton' 'coffee']\n",
      "------------------------------------------------------\n",
      "Crops in Third Cluster: ['grapes' 'apple']\n",
      "------------------------------------------------------\n",
      "Crops in Forth Cluster: ['rice' 'pigeonpeas' 'papaya' 'coconut' 'jute' 'coffee']\n"
     ]
    }
   ],
   "source": [
    "#lets implement the K means algorithum to perform clustring analysis\n",
    "km=KMeans(n_clusters=4,init='k-means++',max_iter=300,n_init=10,random_state=0)\n",
    "y_means = km.fit_predict(x)\n",
    "\n",
    "#lets find out the Results\n",
    "a = data['label']\n",
    "y_means=pd.DataFrame(y_means)\n",
    "z = pd.concat([y_means,a],axis=1)\n",
    "z = z.rename(columns={0:'cluster'})\n",
    "\n",
    "#lets check the Clusters of each Crops\n",
    "print(\"LETS CHECK THE RESULT AFTER APPLYING THER K MEANS CLUSTRING ANALYSIS \\n\")\n",
    "print(\"Crops in Frist Cluster:\",z[z['cluster']==0]['label'].unique())\n",
    "print(\"------------------------------------------------------\")\n",
    "print(\"Crops in Second Cluster:\",z[z['cluster']==1]['label'].unique())\n",
    "print(\"------------------------------------------------------\")\n",
    "print(\"Crops in Third Cluster:\",z[z['cluster']==2]['label'].unique())\n",
    "print(\"------------------------------------------------------\")\n",
    "print(\"Crops in Forth Cluster:\",z[z['cluster']==3]['label'].unique())"
   ]
  },
  {
   "cell_type": "code",
   "execution_count": 17,
   "id": "af217f2d",
   "metadata": {},
   "outputs": [
    {
     "name": "stdout",
     "output_type": "stream",
     "text": [
      "shape of x: (2200, 7)\n",
      "shape of y: (2200,)\n"
     ]
    }
   ],
   "source": [
    "#lets split the dataset fot Predicitive Modelling\n",
    "\n",
    "y=data['label']\n",
    "x=data.drop(['label'],axis=1)\n",
    "\n",
    "print(\"shape of x:\",x.shape)\n",
    "print(\"shape of y:\",y.shape)\n"
   ]
  },
  {
   "cell_type": "code",
   "execution_count": 18,
   "id": "7ec7c3d1",
   "metadata": {},
   "outputs": [
    {
     "name": "stdout",
     "output_type": "stream",
     "text": [
      "the shape of x train: (1760, 7)\n",
      "the shape of x test: (440, 7)\n",
      "the shape of y train: (1760,)\n",
      "the shape of y test: (440,)\n"
     ]
    }
   ],
   "source": [
    "#lets create Traning and Testing sets for Validation of Results\n",
    "from sklearn.model_selection import train_test_split\n",
    "\n",
    "x_train,x_test,y_train,y_test=train_test_split(x,y,test_size=0.2,random_state=0)\n",
    "\n",
    "print(\"the shape of x train:\",x_train.shape)\n",
    "print(\"the shape of x test:\",x_test.shape)\n",
    "print(\"the shape of y train:\",y_train.shape)\n",
    "print(\"the shape of y test:\",y_test.shape)"
   ]
  },
  {
   "cell_type": "code",
   "execution_count": 19,
   "id": "1a46378c",
   "metadata": {},
   "outputs": [
    {
     "name": "stderr",
     "output_type": "stream",
     "text": [
      "c:\\python38\\lib\\site-packages\\sklearn\\linear_model\\_logistic.py:763: ConvergenceWarning: lbfgs failed to converge (status=1):\n",
      "STOP: TOTAL NO. of ITERATIONS REACHED LIMIT.\n",
      "\n",
      "Increase the number of iterations (max_iter) or scale the data as shown in:\n",
      "    https://scikit-learn.org/stable/modules/preprocessing.html\n",
      "Please also refer to the documentation for alternative solver options:\n",
      "    https://scikit-learn.org/stable/modules/linear_model.html#logistic-regression\n",
      "  n_iter_i = _check_optimize_result(\n"
     ]
    }
   ],
   "source": [
    "#lets create a Predicitive Model\n",
    "\n",
    "from sklearn.linear_model import LogisticRegression\n",
    "\n",
    "model = LogisticRegression()\n",
    "model.fit(x_train,y_train)\n",
    "y_pred = model.predict(x_test)"
   ]
  },
  {
   "cell_type": "code",
   "execution_count": 20,
   "id": "f2aedb62",
   "metadata": {},
   "outputs": [
    {
     "data": {
      "image/png": "[encoded data removed]",
      "text/plain": [
       "<Figure size 720x648 with 2 Axes>"
      ]
     },
     "metadata": {
      "needs_background": "light"
     },
     "output_type": "display_data"
    }
   ],
   "source": [
    "#lets evaluate the Model Performance\n",
    "from sklearn.metrics import confusion_matrix\n",
    "\n",
    "#lets  print the confusion matrix first\n",
    "plt.rcParams['figure.figsize']=(10,9)\n",
    "cm=confusion_matrix(y_test,y_pred)\n",
    "sns.heatmap(cm,annot=True,cmap='Wistia')\n",
    "plt.title(\"confusion Matrix for nLogistic Regression\",fontsize=15)\n",
    "plt.show()"
   ]
  },
  {
   "cell_type": "code",
   "execution_count": 22,
   "id": "1b255083",
   "metadata": {},
   "outputs": [
    {
     "name": "stdout",
     "output_type": "stream",
     "text": [
      "              precision    recall  f1-score   support\n",
      "\n",
      "       apple       1.00      1.00      1.00        18\n",
      "      banana       1.00      1.00      1.00        18\n",
      "   blackgram       0.86      0.82      0.84        22\n",
      "    chickpea       1.00      1.00      1.00        23\n",
      "     coconut       1.00      1.00      1.00        15\n",
      "      coffee       1.00      1.00      1.00        17\n",
      "      cotton       0.89      1.00      0.94        16\n",
      "      grapes       1.00      1.00      1.00        18\n",
      "        jute       0.84      1.00      0.91        21\n",
      " kidneybeans       1.00      1.00      1.00        20\n",
      "      lentil       0.94      0.94      0.94        17\n",
      "       maize       0.94      0.89      0.91        18\n",
      "       mango       1.00      1.00      1.00        21\n",
      "   mothbeans       0.88      0.92      0.90        25\n",
      "    mungbean       1.00      1.00      1.00        17\n",
      "   muskmelon       1.00      1.00      1.00        23\n",
      "      orange       1.00      1.00      1.00        23\n",
      "      papaya       1.00      0.95      0.98        21\n",
      "  pigeonpeas       1.00      1.00      1.00        22\n",
      " pomegranate       1.00      1.00      1.00        23\n",
      "        rice       1.00      0.84      0.91        25\n",
      "  watermelon       1.00      1.00      1.00        17\n",
      "\n",
      "    accuracy                           0.97       440\n",
      "   macro avg       0.97      0.97      0.97       440\n",
      "weighted avg       0.97      0.97      0.97       440\n",
      "\n"
     ]
    }
   ],
   "source": [
    "#lets print the Classification Report also\n",
    "\n",
    "from sklearn.metrics import classification_report\n",
    "\n",
    "cr= classification_report(y_test, y_pred)\n",
    "print(cr)"
   ]
  },
  {
   "cell_type": "code",
   "execution_count": null,
   "id": "90e28dcf",
   "metadata": {},
   "outputs": [],
   "source": [
    "#lets check the head of tha dataset\n",
    "data.head()"
   ]
  },
  {
   "cell_type": "code",
   "execution_count": null,
   "id": "0e11b44f",
   "metadata": {},
   "outputs": [],
   "source": [
    "prediction =model.predict((np.array([[90,\n",
    "                                      40,\n",
    "                                      40,\n",
    "                                      20,\n",
    "                                      80,\n",
    "                                      7,\n",
    "                                      200]])))\n",
    "print(\"The Suggested crop for given Climatic Conditions is:\",prediction)"
   ]
  },
  {
   "cell_type": "code",
   "execution_count": null,
   "id": "d05277ed",
   "metadata": {},
   "outputs": [],
   "source": []
  }
 ],
 "metadata": {
  "kernelspec": {
   "display_name": "Python 3 (ipykernel)",
   "language": "python",
   "name": "python3"
  },
  "language_info": {
   "codemirror_mode": {
    "name": "ipython",
    "version": 3
   },
   "file_extension": ".py",
   "mimetype": "text/x-python",
   "name": "python",
   "nbconvert_exporter": "python",
   "pygments_lexer": "ipython3",
   "version": "3.8.7"
  }
 },
 "nbformat": 4,
 "nbformat_minor": 5
}
